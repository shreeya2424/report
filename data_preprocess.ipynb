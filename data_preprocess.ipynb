{
 "cells": [
  {
   "cell_type": "code",
   "execution_count": 1,
   "id": "66501c55",
   "metadata": {},
   "outputs": [],
   "source": [
    "import pandas as pd"
   ]
  },
  {
   "cell_type": "code",
   "execution_count": 2,
   "id": "f1daf1fb",
   "metadata": {},
   "outputs": [],
   "source": [
    "data= pd.read_excel('consumption.xlsx')"
   ]
  },
  {
   "cell_type": "code",
   "execution_count": 3,
   "id": "779ce4c0",
   "metadata": {},
   "outputs": [
    {
     "data": {
      "text/plain": [
       "Index(['Movement type', 'Movement Type Text', 'Material Document', 'Material',\n",
       "       'Posting Date', 'Plant', 'Material Description', 'Valuation Type',\n",
       "       'Qty in unit of entry', 'Unit of Entry', 'Amt.in Loc.Cur.',\n",
       "       'Storage location', 'Material Doc.Item', 'User Name', 'Order',\n",
       "       'WBS element', 'Cost Center'],\n",
       "      dtype='object')"
      ]
     },
     "execution_count": 3,
     "metadata": {},
     "output_type": "execute_result"
    }
   ],
   "source": [
    "data.columns"
   ]
  },
  {
   "cell_type": "code",
   "execution_count": 4,
   "id": "bbcd8214",
   "metadata": {},
   "outputs": [
    {
     "data": {
      "text/plain": [
       "(5783, 17)"
      ]
     },
     "execution_count": 4,
     "metadata": {},
     "output_type": "execute_result"
    }
   ],
   "source": [
    "data.shape"
   ]
  },
  {
   "cell_type": "code",
   "execution_count": 8,
   "id": "632c27ca",
   "metadata": {},
   "outputs": [
    {
     "data": {
      "text/plain": [
       "801"
      ]
     },
     "execution_count": 8,
     "metadata": {},
     "output_type": "execute_result"
    }
   ],
   "source": [
    "data['Material'].nunique()"
   ]
  },
  {
   "cell_type": "code",
   "execution_count": 56,
   "id": "2c3dda7e",
   "metadata": {},
   "outputs": [
    {
     "data": {
      "text/html": [
       "<div>\n",
       "<style scoped>\n",
       "    .dataframe tbody tr th:only-of-type {\n",
       "        vertical-align: middle;\n",
       "    }\n",
       "\n",
       "    .dataframe tbody tr th {\n",
       "        vertical-align: top;\n",
       "    }\n",
       "\n",
       "    .dataframe thead th {\n",
       "        text-align: right;\n",
       "    }\n",
       "</style>\n",
       "<table border=\"1\" class=\"dataframe\">\n",
       "  <thead>\n",
       "    <tr style=\"text-align: right;\">\n",
       "      <th></th>\n",
       "      <th>Movement type</th>\n",
       "      <th>Movement Type Text</th>\n",
       "      <th>Material Document</th>\n",
       "      <th>Material</th>\n",
       "      <th>Posting Date</th>\n",
       "      <th>Plant</th>\n",
       "      <th>Material Description</th>\n",
       "      <th>Valuation Type</th>\n",
       "      <th>Qty in unit of entry</th>\n",
       "      <th>Unit of Entry</th>\n",
       "      <th>Amt.in Loc.Cur.</th>\n",
       "      <th>Storage location</th>\n",
       "      <th>Material Doc.Item</th>\n",
       "      <th>User Name</th>\n",
       "      <th>Order</th>\n",
       "      <th>WBS element</th>\n",
       "      <th>Cost Center</th>\n",
       "    </tr>\n",
       "  </thead>\n",
       "  <tbody>\n",
       "    <tr>\n",
       "      <th>0</th>\n",
       "      <td>261.0</td>\n",
       "      <td>GI for order</td>\n",
       "      <td>4.908062e+09</td>\n",
       "      <td>322203016.0</td>\n",
       "      <td>2025-07-02</td>\n",
       "      <td>20D1</td>\n",
       "      <td>CUP, MUD DIAPHRAGM RUBBER</td>\n",
       "      <td>SPIM-PLNEW</td>\n",
       "      <td>-2.0</td>\n",
       "      <td>NO</td>\n",
       "      <td>-1607.66</td>\n",
       "      <td>RP07</td>\n",
       "      <td>2.0</td>\n",
       "      <td>95833.0</td>\n",
       "      <td>51835422.0</td>\n",
       "      <td>NaN</td>\n",
       "      <td>NaN</td>\n",
       "    </tr>\n",
       "    <tr>\n",
       "      <th>1</th>\n",
       "      <td>261.0</td>\n",
       "      <td>GI for order</td>\n",
       "      <td>4.908062e+09</td>\n",
       "      <td>322203725.0</td>\n",
       "      <td>2025-07-02</td>\n",
       "      <td>20D1</td>\n",
       "      <td>DIAPHRAGM PROTECTOR ASSY</td>\n",
       "      <td>SPIM-PLNEW</td>\n",
       "      <td>-2.0</td>\n",
       "      <td>NO</td>\n",
       "      <td>-124332.73</td>\n",
       "      <td>RP07</td>\n",
       "      <td>1.0</td>\n",
       "      <td>95833.0</td>\n",
       "      <td>51835422.0</td>\n",
       "      <td>NaN</td>\n",
       "      <td>NaN</td>\n",
       "    </tr>\n",
       "    <tr>\n",
       "      <th>2</th>\n",
       "      <td>261.0</td>\n",
       "      <td>GI for order</td>\n",
       "      <td>4.908062e+09</td>\n",
       "      <td>322213517.0</td>\n",
       "      <td>2025-07-02</td>\n",
       "      <td>20D1</td>\n",
       "      <td>SEPARATOR,1:1,STD SERV 17-4</td>\n",
       "      <td>SPIM-PLNEW</td>\n",
       "      <td>-1.0</td>\n",
       "      <td>NO</td>\n",
       "      <td>-238384.82</td>\n",
       "      <td>RP07</td>\n",
       "      <td>3.0</td>\n",
       "      <td>95833.0</td>\n",
       "      <td>51835422.0</td>\n",
       "      <td>NaN</td>\n",
       "      <td>NaN</td>\n",
       "    </tr>\n",
       "    <tr>\n",
       "      <th>3</th>\n",
       "      <td>261.0</td>\n",
       "      <td>GI for order</td>\n",
       "      <td>4.908059e+09</td>\n",
       "      <td>320000083.0</td>\n",
       "      <td>2025-06-30</td>\n",
       "      <td>20D1</td>\n",
       "      <td>COUPLER,FEM,17K PSI,1/4\" FNPT</td>\n",
       "      <td>SPIM-PLNEW</td>\n",
       "      <td>-3.0</td>\n",
       "      <td>NO</td>\n",
       "      <td>-20946.17</td>\n",
       "      <td>RP07</td>\n",
       "      <td>13.0</td>\n",
       "      <td>95833.0</td>\n",
       "      <td>51834993.0</td>\n",
       "      <td>NaN</td>\n",
       "      <td>NaN</td>\n",
       "    </tr>\n",
       "    <tr>\n",
       "      <th>4</th>\n",
       "      <td>261.0</td>\n",
       "      <td>GI for order</td>\n",
       "      <td>4.908059e+09</td>\n",
       "      <td>320000127.0</td>\n",
       "      <td>2025-06-30</td>\n",
       "      <td>20D1</td>\n",
       "      <td>LOAD CELL ASSY,4.0\"T,F/S</td>\n",
       "      <td>SPIM-PLNEW</td>\n",
       "      <td>-1.0</td>\n",
       "      <td>NO</td>\n",
       "      <td>-266181.39</td>\n",
       "      <td>RP07</td>\n",
       "      <td>6.0</td>\n",
       "      <td>95833.0</td>\n",
       "      <td>51834993.0</td>\n",
       "      <td>NaN</td>\n",
       "      <td>NaN</td>\n",
       "    </tr>\n",
       "  </tbody>\n",
       "</table>\n",
       "</div>"
      ],
      "text/plain": [
       "   Movement type Movement Type Text  Material Document     Material  \\\n",
       "0          261.0       GI for order       4.908062e+09  322203016.0   \n",
       "1          261.0       GI for order       4.908062e+09  322203725.0   \n",
       "2          261.0       GI for order       4.908062e+09  322213517.0   \n",
       "3          261.0       GI for order       4.908059e+09  320000083.0   \n",
       "4          261.0       GI for order       4.908059e+09  320000127.0   \n",
       "\n",
       "  Posting Date Plant           Material Description Valuation Type  \\\n",
       "0   2025-07-02  20D1      CUP, MUD DIAPHRAGM RUBBER     SPIM-PLNEW   \n",
       "1   2025-07-02  20D1       DIAPHRAGM PROTECTOR ASSY     SPIM-PLNEW   \n",
       "2   2025-07-02  20D1    SEPARATOR,1:1,STD SERV 17-4     SPIM-PLNEW   \n",
       "3   2025-06-30  20D1  COUPLER,FEM,17K PSI,1/4\" FNPT     SPIM-PLNEW   \n",
       "4   2025-06-30  20D1       LOAD CELL ASSY,4.0\"T,F/S     SPIM-PLNEW   \n",
       "\n",
       "   Qty in unit of entry Unit of Entry  Amt.in Loc.Cur. Storage location  \\\n",
       "0                  -2.0            NO         -1607.66             RP07   \n",
       "1                  -2.0            NO       -124332.73             RP07   \n",
       "2                  -1.0            NO       -238384.82             RP07   \n",
       "3                  -3.0            NO        -20946.17             RP07   \n",
       "4                  -1.0            NO       -266181.39             RP07   \n",
       "\n",
       "   Material Doc.Item  User Name       Order WBS element Cost Center  \n",
       "0                2.0    95833.0  51835422.0         NaN         NaN  \n",
       "1                1.0    95833.0  51835422.0         NaN         NaN  \n",
       "2                3.0    95833.0  51835422.0         NaN         NaN  \n",
       "3               13.0    95833.0  51834993.0         NaN         NaN  \n",
       "4                6.0    95833.0  51834993.0         NaN         NaN  "
      ]
     },
     "execution_count": 56,
     "metadata": {},
     "output_type": "execute_result"
    }
   ],
   "source": [
    "data.head()"
   ]
  },
  {
   "cell_type": "code",
   "execution_count": 57,
   "id": "9ea5ae8a",
   "metadata": {},
   "outputs": [],
   "source": [
    "data['Material'] = data['Material'].astype(str)"
   ]
  },
  {
   "cell_type": "code",
   "execution_count": 58,
   "id": "f6cd0a7b",
   "metadata": {},
   "outputs": [
    {
     "data": {
      "text/html": [
       "<div>\n",
       "<style scoped>\n",
       "    .dataframe tbody tr th:only-of-type {\n",
       "        vertical-align: middle;\n",
       "    }\n",
       "\n",
       "    .dataframe tbody tr th {\n",
       "        vertical-align: top;\n",
       "    }\n",
       "\n",
       "    .dataframe thead th {\n",
       "        text-align: right;\n",
       "    }\n",
       "</style>\n",
       "<table border=\"1\" class=\"dataframe\">\n",
       "  <thead>\n",
       "    <tr style=\"text-align: right;\">\n",
       "      <th></th>\n",
       "      <th>Movement type</th>\n",
       "      <th>Movement Type Text</th>\n",
       "      <th>Material Document</th>\n",
       "      <th>Material</th>\n",
       "      <th>Posting Date</th>\n",
       "      <th>Plant</th>\n",
       "      <th>Material Description</th>\n",
       "      <th>Valuation Type</th>\n",
       "      <th>Qty in unit of entry</th>\n",
       "      <th>Unit of Entry</th>\n",
       "      <th>Amt.in Loc.Cur.</th>\n",
       "      <th>Storage location</th>\n",
       "      <th>Material Doc.Item</th>\n",
       "      <th>User Name</th>\n",
       "      <th>Order</th>\n",
       "      <th>WBS element</th>\n",
       "      <th>Cost Center</th>\n",
       "    </tr>\n",
       "  </thead>\n",
       "  <tbody>\n",
       "    <tr>\n",
       "      <th>0</th>\n",
       "      <td>261.0</td>\n",
       "      <td>GI for order</td>\n",
       "      <td>4.908062e+09</td>\n",
       "      <td>322203016.0</td>\n",
       "      <td>2025-07-02</td>\n",
       "      <td>20D1</td>\n",
       "      <td>CUP, MUD DIAPHRAGM RUBBER</td>\n",
       "      <td>SPIM-PLNEW</td>\n",
       "      <td>-2.0</td>\n",
       "      <td>NO</td>\n",
       "      <td>-1607.66</td>\n",
       "      <td>RP07</td>\n",
       "      <td>2.0</td>\n",
       "      <td>95833.0</td>\n",
       "      <td>51835422.0</td>\n",
       "      <td>NaN</td>\n",
       "      <td>NaN</td>\n",
       "    </tr>\n",
       "    <tr>\n",
       "      <th>1</th>\n",
       "      <td>261.0</td>\n",
       "      <td>GI for order</td>\n",
       "      <td>4.908062e+09</td>\n",
       "      <td>322203725.0</td>\n",
       "      <td>2025-07-02</td>\n",
       "      <td>20D1</td>\n",
       "      <td>DIAPHRAGM PROTECTOR ASSY</td>\n",
       "      <td>SPIM-PLNEW</td>\n",
       "      <td>-2.0</td>\n",
       "      <td>NO</td>\n",
       "      <td>-124332.73</td>\n",
       "      <td>RP07</td>\n",
       "      <td>1.0</td>\n",
       "      <td>95833.0</td>\n",
       "      <td>51835422.0</td>\n",
       "      <td>NaN</td>\n",
       "      <td>NaN</td>\n",
       "    </tr>\n",
       "    <tr>\n",
       "      <th>2</th>\n",
       "      <td>261.0</td>\n",
       "      <td>GI for order</td>\n",
       "      <td>4.908062e+09</td>\n",
       "      <td>322213517.0</td>\n",
       "      <td>2025-07-02</td>\n",
       "      <td>20D1</td>\n",
       "      <td>SEPARATOR,1:1,STD SERV 17-4</td>\n",
       "      <td>SPIM-PLNEW</td>\n",
       "      <td>-1.0</td>\n",
       "      <td>NO</td>\n",
       "      <td>-238384.82</td>\n",
       "      <td>RP07</td>\n",
       "      <td>3.0</td>\n",
       "      <td>95833.0</td>\n",
       "      <td>51835422.0</td>\n",
       "      <td>NaN</td>\n",
       "      <td>NaN</td>\n",
       "    </tr>\n",
       "    <tr>\n",
       "      <th>3</th>\n",
       "      <td>261.0</td>\n",
       "      <td>GI for order</td>\n",
       "      <td>4.908059e+09</td>\n",
       "      <td>320000083.0</td>\n",
       "      <td>2025-06-30</td>\n",
       "      <td>20D1</td>\n",
       "      <td>COUPLER,FEM,17K PSI,1/4\" FNPT</td>\n",
       "      <td>SPIM-PLNEW</td>\n",
       "      <td>-3.0</td>\n",
       "      <td>NO</td>\n",
       "      <td>-20946.17</td>\n",
       "      <td>RP07</td>\n",
       "      <td>13.0</td>\n",
       "      <td>95833.0</td>\n",
       "      <td>51834993.0</td>\n",
       "      <td>NaN</td>\n",
       "      <td>NaN</td>\n",
       "    </tr>\n",
       "    <tr>\n",
       "      <th>4</th>\n",
       "      <td>261.0</td>\n",
       "      <td>GI for order</td>\n",
       "      <td>4.908059e+09</td>\n",
       "      <td>320000127.0</td>\n",
       "      <td>2025-06-30</td>\n",
       "      <td>20D1</td>\n",
       "      <td>LOAD CELL ASSY,4.0\"T,F/S</td>\n",
       "      <td>SPIM-PLNEW</td>\n",
       "      <td>-1.0</td>\n",
       "      <td>NO</td>\n",
       "      <td>-266181.39</td>\n",
       "      <td>RP07</td>\n",
       "      <td>6.0</td>\n",
       "      <td>95833.0</td>\n",
       "      <td>51834993.0</td>\n",
       "      <td>NaN</td>\n",
       "      <td>NaN</td>\n",
       "    </tr>\n",
       "  </tbody>\n",
       "</table>\n",
       "</div>"
      ],
      "text/plain": [
       "   Movement type Movement Type Text  Material Document     Material  \\\n",
       "0          261.0       GI for order       4.908062e+09  322203016.0   \n",
       "1          261.0       GI for order       4.908062e+09  322203725.0   \n",
       "2          261.0       GI for order       4.908062e+09  322213517.0   \n",
       "3          261.0       GI for order       4.908059e+09  320000083.0   \n",
       "4          261.0       GI for order       4.908059e+09  320000127.0   \n",
       "\n",
       "  Posting Date Plant           Material Description Valuation Type  \\\n",
       "0   2025-07-02  20D1      CUP, MUD DIAPHRAGM RUBBER     SPIM-PLNEW   \n",
       "1   2025-07-02  20D1       DIAPHRAGM PROTECTOR ASSY     SPIM-PLNEW   \n",
       "2   2025-07-02  20D1    SEPARATOR,1:1,STD SERV 17-4     SPIM-PLNEW   \n",
       "3   2025-06-30  20D1  COUPLER,FEM,17K PSI,1/4\" FNPT     SPIM-PLNEW   \n",
       "4   2025-06-30  20D1       LOAD CELL ASSY,4.0\"T,F/S     SPIM-PLNEW   \n",
       "\n",
       "   Qty in unit of entry Unit of Entry  Amt.in Loc.Cur. Storage location  \\\n",
       "0                  -2.0            NO         -1607.66             RP07   \n",
       "1                  -2.0            NO       -124332.73             RP07   \n",
       "2                  -1.0            NO       -238384.82             RP07   \n",
       "3                  -3.0            NO        -20946.17             RP07   \n",
       "4                  -1.0            NO       -266181.39             RP07   \n",
       "\n",
       "   Material Doc.Item  User Name       Order WBS element Cost Center  \n",
       "0                2.0    95833.0  51835422.0         NaN         NaN  \n",
       "1                1.0    95833.0  51835422.0         NaN         NaN  \n",
       "2                3.0    95833.0  51835422.0         NaN         NaN  \n",
       "3               13.0    95833.0  51834993.0         NaN         NaN  \n",
       "4                6.0    95833.0  51834993.0         NaN         NaN  "
      ]
     },
     "execution_count": 58,
     "metadata": {},
     "output_type": "execute_result"
    }
   ],
   "source": [
    "data.head()"
   ]
  },
  {
   "cell_type": "code",
   "execution_count": 9,
   "id": "7a0d685f",
   "metadata": {},
   "outputs": [],
   "source": [
    "top_materials = data['Material'].value_counts().head(10).index\n",
    "\n",
    "df_top10 = data[data['Material'].isin(top_materials)]"
   ]
  },
  {
   "cell_type": "code",
   "execution_count": 10,
   "id": "9d0c22ec",
   "metadata": {},
   "outputs": [
    {
     "name": "stdout",
     "output_type": "stream",
     "text": [
      "      Material Unit of Entry  Count\n",
      "0   90001043.0            MT    269\n",
      "1  100000178.0            MT    234\n",
      "2  100000530.0            MT    195\n",
      "3  100000550.0            KG    167\n",
      "4  100101003.0            MT    165\n",
      "5  100101005.0            KG    226\n",
      "6  100101210.0            MT    166\n",
      "7  100101244.0            MT    174\n",
      "8  100101385.0            MT    154\n",
      "9  100213267.0            MT    224\n"
     ]
    }
   ],
   "source": [
    "unit_counts = df_top10.groupby(['Material', 'Unit of Entry']).size().reset_index(name='Count')\n",
    "print(unit_counts)"
   ]
  },
  {
   "cell_type": "code",
   "execution_count": null,
   "id": "bc0b3b7b",
   "metadata": {},
   "outputs": [],
   "source": [
    "# gota chose one of the materials and build a model! cant build a general solution\n",
    "\n",
    "\n",
    "\n",
    "df_mt = df_top10[df_top10['Unit of Entry'] == 'MT']\n",
    "# top3_mt_materials = df_mt['Material'].value_counts().head(3).index\n",
    "\n",
    "# group by Material and sum total consumption\n",
    "top3_by_qty = df_mt.groupby('Material')['Qty in unit of entry'].sum().nsmallest(3).index  # use nsmallest because consumption is negative\n",
    "\n",
    "# filter og data for only those top 3\n",
    "# data1 = df_mt[df_mt['Material'].isin(top3_mt_materials)]\n",
    "data1 = df_mt[df_mt['Material'].isin(top3_by_qty)]\n"
   ]
  },
  {
   "cell_type": "code",
   "execution_count": 62,
   "id": "9f509b42",
   "metadata": {},
   "outputs": [
    {
     "data": {
      "text/plain": [
       "array(['90001043.0', '100000178.0', '100101003.0'], dtype=object)"
      ]
     },
     "execution_count": 62,
     "metadata": {},
     "output_type": "execute_result"
    }
   ],
   "source": [
    "data1['Material'].unique()"
   ]
  },
  {
   "cell_type": "code",
   "execution_count": 63,
   "id": "c4cdc783",
   "metadata": {},
   "outputs": [
    {
     "data": {
      "text/plain": [
       "(668, 17)"
      ]
     },
     "execution_count": 63,
     "metadata": {},
     "output_type": "execute_result"
    }
   ],
   "source": [
    "data1.shape"
   ]
  },
  {
   "cell_type": "code",
   "execution_count": 64,
   "id": "4513154a",
   "metadata": {},
   "outputs": [],
   "source": [
    "df_model = data1[['Material', 'Posting Date', 'Qty in unit of entry','Amt.in Loc.Cur.']].copy()"
   ]
  },
  {
   "cell_type": "code",
   "execution_count": 65,
   "id": "bd4d4585",
   "metadata": {},
   "outputs": [
    {
     "data": {
      "text/html": [
       "<div>\n",
       "<style scoped>\n",
       "    .dataframe tbody tr th:only-of-type {\n",
       "        vertical-align: middle;\n",
       "    }\n",
       "\n",
       "    .dataframe tbody tr th {\n",
       "        vertical-align: top;\n",
       "    }\n",
       "\n",
       "    .dataframe thead th {\n",
       "        text-align: right;\n",
       "    }\n",
       "</style>\n",
       "<table border=\"1\" class=\"dataframe\">\n",
       "  <thead>\n",
       "    <tr style=\"text-align: right;\">\n",
       "      <th></th>\n",
       "      <th>Material</th>\n",
       "      <th>Posting Date</th>\n",
       "      <th>Qty in unit of entry</th>\n",
       "      <th>Amt.in Loc.Cur.</th>\n",
       "    </tr>\n",
       "  </thead>\n",
       "  <tbody>\n",
       "    <tr>\n",
       "      <th>162</th>\n",
       "      <td>90001043.0</td>\n",
       "      <td>2025-02-21</td>\n",
       "      <td>-0.5</td>\n",
       "      <td>-4718.31</td>\n",
       "    </tr>\n",
       "    <tr>\n",
       "      <th>163</th>\n",
       "      <td>90001043.0</td>\n",
       "      <td>2025-02-20</td>\n",
       "      <td>-7.5</td>\n",
       "      <td>-70774.62</td>\n",
       "    </tr>\n",
       "    <tr>\n",
       "      <th>164</th>\n",
       "      <td>100000178.0</td>\n",
       "      <td>2025-02-20</td>\n",
       "      <td>-1.0</td>\n",
       "      <td>-42701.55</td>\n",
       "    </tr>\n",
       "    <tr>\n",
       "      <th>169</th>\n",
       "      <td>90001043.0</td>\n",
       "      <td>2025-02-19</td>\n",
       "      <td>-18.0</td>\n",
       "      <td>-169859.08</td>\n",
       "    </tr>\n",
       "    <tr>\n",
       "      <th>173</th>\n",
       "      <td>100101003.0</td>\n",
       "      <td>2025-02-19</td>\n",
       "      <td>-0.5</td>\n",
       "      <td>-3102.21</td>\n",
       "    </tr>\n",
       "  </tbody>\n",
       "</table>\n",
       "</div>"
      ],
      "text/plain": [
       "        Material Posting Date  Qty in unit of entry  Amt.in Loc.Cur.\n",
       "162   90001043.0   2025-02-21                  -0.5         -4718.31\n",
       "163   90001043.0   2025-02-20                  -7.5        -70774.62\n",
       "164  100000178.0   2025-02-20                  -1.0        -42701.55\n",
       "169   90001043.0   2025-02-19                 -18.0       -169859.08\n",
       "173  100101003.0   2025-02-19                  -0.5         -3102.21"
      ]
     },
     "execution_count": 65,
     "metadata": {},
     "output_type": "execute_result"
    }
   ],
   "source": [
    "df_model.head()"
   ]
  },
  {
   "cell_type": "code",
   "execution_count": 69,
   "id": "be5ec43e",
   "metadata": {},
   "outputs": [
    {
     "data": {
      "text/html": [
       "<div>\n",
       "<style scoped>\n",
       "    .dataframe tbody tr th:only-of-type {\n",
       "        vertical-align: middle;\n",
       "    }\n",
       "\n",
       "    .dataframe tbody tr th {\n",
       "        vertical-align: top;\n",
       "    }\n",
       "\n",
       "    .dataframe thead th {\n",
       "        text-align: right;\n",
       "    }\n",
       "</style>\n",
       "<table border=\"1\" class=\"dataframe\">\n",
       "  <thead>\n",
       "    <tr style=\"text-align: right;\">\n",
       "      <th></th>\n",
       "      <th>Material</th>\n",
       "      <th>Posting Date</th>\n",
       "      <th>Qty in unit of entry</th>\n",
       "      <th>Amt.in Loc.Cur.</th>\n",
       "    </tr>\n",
       "  </thead>\n",
       "  <tbody>\n",
       "    <tr>\n",
       "      <th>162</th>\n",
       "      <td>90001043.0</td>\n",
       "      <td>2025-02-21</td>\n",
       "      <td>-0.5</td>\n",
       "      <td>-4718.31</td>\n",
       "    </tr>\n",
       "    <tr>\n",
       "      <th>163</th>\n",
       "      <td>90001043.0</td>\n",
       "      <td>2025-02-20</td>\n",
       "      <td>-7.5</td>\n",
       "      <td>-70774.62</td>\n",
       "    </tr>\n",
       "    <tr>\n",
       "      <th>164</th>\n",
       "      <td>100000178.0</td>\n",
       "      <td>2025-02-20</td>\n",
       "      <td>-1.0</td>\n",
       "      <td>-42701.55</td>\n",
       "    </tr>\n",
       "    <tr>\n",
       "      <th>169</th>\n",
       "      <td>90001043.0</td>\n",
       "      <td>2025-02-19</td>\n",
       "      <td>-18.0</td>\n",
       "      <td>-169859.08</td>\n",
       "    </tr>\n",
       "    <tr>\n",
       "      <th>173</th>\n",
       "      <td>100101003.0</td>\n",
       "      <td>2025-02-19</td>\n",
       "      <td>-0.5</td>\n",
       "      <td>-3102.21</td>\n",
       "    </tr>\n",
       "  </tbody>\n",
       "</table>\n",
       "</div>"
      ],
      "text/plain": [
       "        Material Posting Date  Qty in unit of entry  Amt.in Loc.Cur.\n",
       "162   90001043.0   2025-02-21                  -0.5         -4718.31\n",
       "163   90001043.0   2025-02-20                  -7.5        -70774.62\n",
       "164  100000178.0   2025-02-20                  -1.0        -42701.55\n",
       "169   90001043.0   2025-02-19                 -18.0       -169859.08\n",
       "173  100101003.0   2025-02-19                  -0.5         -3102.21"
      ]
     },
     "execution_count": 69,
     "metadata": {},
     "output_type": "execute_result"
    }
   ],
   "source": [
    "df_model.head()"
   ]
  },
  {
   "cell_type": "code",
   "execution_count": 66,
   "id": "5af88a73",
   "metadata": {},
   "outputs": [],
   "source": [
    "df_model = df_model[df_model['Qty in unit of entry'] < 0].copy()"
   ]
  },
  {
   "cell_type": "code",
   "execution_count": 67,
   "id": "a6faa93a",
   "metadata": {},
   "outputs": [
    {
     "data": {
      "text/plain": [
       "(650, 4)"
      ]
     },
     "execution_count": 67,
     "metadata": {},
     "output_type": "execute_result"
    }
   ],
   "source": [
    "df_model.shape"
   ]
  },
  {
   "cell_type": "code",
   "execution_count": 68,
   "id": "8c037360",
   "metadata": {},
   "outputs": [],
   "source": [
    "df_model['Posting Date'] = pd.to_datetime(df_model['Posting Date'])"
   ]
  },
  {
   "cell_type": "code",
   "execution_count": 70,
   "id": "9186059d",
   "metadata": {},
   "outputs": [],
   "source": [
    "df_grouped = df_model.groupby(['Material', 'Posting Date'])['Qty in unit of entry'].sum().reset_index()"
   ]
  },
  {
   "cell_type": "code",
   "execution_count": 71,
   "id": "8b43d22f",
   "metadata": {},
   "outputs": [
    {
     "data": {
      "text/html": [
       "<div>\n",
       "<style scoped>\n",
       "    .dataframe tbody tr th:only-of-type {\n",
       "        vertical-align: middle;\n",
       "    }\n",
       "\n",
       "    .dataframe tbody tr th {\n",
       "        vertical-align: top;\n",
       "    }\n",
       "\n",
       "    .dataframe thead th {\n",
       "        text-align: right;\n",
       "    }\n",
       "</style>\n",
       "<table border=\"1\" class=\"dataframe\">\n",
       "  <thead>\n",
       "    <tr style=\"text-align: right;\">\n",
       "      <th></th>\n",
       "      <th>Material</th>\n",
       "      <th>Posting Date</th>\n",
       "      <th>Qty in unit of entry</th>\n",
       "    </tr>\n",
       "  </thead>\n",
       "  <tbody>\n",
       "    <tr>\n",
       "      <th>0</th>\n",
       "      <td>100000178.0</td>\n",
       "      <td>2011-08-25</td>\n",
       "      <td>-1.000</td>\n",
       "    </tr>\n",
       "    <tr>\n",
       "      <th>1</th>\n",
       "      <td>100000178.0</td>\n",
       "      <td>2012-02-17</td>\n",
       "      <td>-1.175</td>\n",
       "    </tr>\n",
       "    <tr>\n",
       "      <th>2</th>\n",
       "      <td>100000178.0</td>\n",
       "      <td>2013-10-10</td>\n",
       "      <td>-3.000</td>\n",
       "    </tr>\n",
       "    <tr>\n",
       "      <th>3</th>\n",
       "      <td>100000178.0</td>\n",
       "      <td>2013-10-17</td>\n",
       "      <td>-1.000</td>\n",
       "    </tr>\n",
       "    <tr>\n",
       "      <th>4</th>\n",
       "      <td>100000178.0</td>\n",
       "      <td>2014-03-30</td>\n",
       "      <td>-1.000</td>\n",
       "    </tr>\n",
       "    <tr>\n",
       "      <th>...</th>\n",
       "      <td>...</td>\n",
       "      <td>...</td>\n",
       "      <td>...</td>\n",
       "    </tr>\n",
       "    <tr>\n",
       "      <th>627</th>\n",
       "      <td>90001043.0</td>\n",
       "      <td>2025-02-17</td>\n",
       "      <td>-25.000</td>\n",
       "    </tr>\n",
       "    <tr>\n",
       "      <th>628</th>\n",
       "      <td>90001043.0</td>\n",
       "      <td>2025-02-18</td>\n",
       "      <td>-15.500</td>\n",
       "    </tr>\n",
       "    <tr>\n",
       "      <th>629</th>\n",
       "      <td>90001043.0</td>\n",
       "      <td>2025-02-19</td>\n",
       "      <td>-18.000</td>\n",
       "    </tr>\n",
       "    <tr>\n",
       "      <th>630</th>\n",
       "      <td>90001043.0</td>\n",
       "      <td>2025-02-20</td>\n",
       "      <td>-7.500</td>\n",
       "    </tr>\n",
       "    <tr>\n",
       "      <th>631</th>\n",
       "      <td>90001043.0</td>\n",
       "      <td>2025-02-21</td>\n",
       "      <td>-0.500</td>\n",
       "    </tr>\n",
       "  </tbody>\n",
       "</table>\n",
       "<p>632 rows × 3 columns</p>\n",
       "</div>"
      ],
      "text/plain": [
       "        Material Posting Date  Qty in unit of entry\n",
       "0    100000178.0   2011-08-25                -1.000\n",
       "1    100000178.0   2012-02-17                -1.175\n",
       "2    100000178.0   2013-10-10                -3.000\n",
       "3    100000178.0   2013-10-17                -1.000\n",
       "4    100000178.0   2014-03-30                -1.000\n",
       "..           ...          ...                   ...\n",
       "627   90001043.0   2025-02-17               -25.000\n",
       "628   90001043.0   2025-02-18               -15.500\n",
       "629   90001043.0   2025-02-19               -18.000\n",
       "630   90001043.0   2025-02-20                -7.500\n",
       "631   90001043.0   2025-02-21                -0.500\n",
       "\n",
       "[632 rows x 3 columns]"
      ]
     },
     "execution_count": 71,
     "metadata": {},
     "output_type": "execute_result"
    }
   ],
   "source": [
    "df_grouped"
   ]
  },
  {
   "cell_type": "code",
   "execution_count": 74,
   "id": "736932ac",
   "metadata": {},
   "outputs": [
    {
     "data": {
      "image/png": "[encoded data removed]",
      "text/plain": [
       "<Figure size 1200x600 with 1 Axes>"
      ]
     },
     "metadata": {},
     "output_type": "display_data"
    }
   ],
   "source": [
    "import matplotlib.pyplot as plt\n",
    "\n",
    "# Plot time series for each material\n",
    "plt.figure(figsize=(12, 6))\n",
    "\n",
    "for material in df_grouped['Material'].unique():\n",
    "    material_data = df_grouped[df_grouped['Material'] == material]\n",
    "    plt.plot(material_data['Posting Date'], material_data['Qty in unit of entry'], label=f'Material {material}')\n",
    "\n",
    "plt.xlabel('Date')\n",
    "plt.ylabel('Consumption Quantity')\n",
    "plt.title('Daily Consumption Over Time (Top 3 Materials)')\n",
    "plt.legend()\n",
    "plt.tight_layout()\n",
    "plt.show()\n"
   ]
  },
  {
   "cell_type": "code",
   "execution_count": 72,
   "id": "617e0924",
   "metadata": {},
   "outputs": [],
   "source": [
    "df_model = df_model[df_model['Material'] == 90001043.0].copy()"
   ]
  },
  {
   "cell_type": "code",
   "execution_count": null,
   "id": "2b2f70d2",
   "metadata": {},
   "outputs": [],
   "source": []
  }
 ],
 "metadata": {
  "kernelspec": {
   "display_name": "Python 3 (ipykernel)",
   "language": "python",
   "name": "python3"
  },
  "language_info": {
   "codemirror_mode": {
    "name": "ipython",
    "version": 3
   },
   "file_extension": ".py",
   "mimetype": "text/x-python",
   "name": "python",
   "nbconvert_exporter": "python",
   "pygments_lexer": "ipython3",
   "version": "3.11.4"
  }
 },
 "nbformat": 4,
 "nbformat_minor": 5
}
